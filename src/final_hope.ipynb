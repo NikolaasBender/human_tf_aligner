{
 "metadata": {
  "language_info": {
   "codemirror_mode": {
    "name": "ipython",
    "version": 3
   },
   "file_extension": ".py",
   "mimetype": "text/x-python",
   "name": "python",
   "nbconvert_exporter": "python",
   "pygments_lexer": "ipython3",
   "version": "3.8.10"
  },
  "orig_nbformat": 4,
  "kernelspec": {
   "name": "python3",
   "display_name": "Python 3.8.10 64-bit"
  },
  "interpreter": {
   "hash": "31f2aee4e71d21fbe5cf8b01ff0e069b9275f58929596ceb00d14d90e3e16cd6"
  }
 },
 "nbformat": 4,
 "nbformat_minor": 2,
 "cells": [
  {
   "cell_type": "code",
   "execution_count": 1,
   "metadata": {},
   "outputs": [],
   "source": [
    "%matplotlib ipympl\n",
    "\n",
    "import mpl_interactions.ipyplot as iplt\n",
    "import matplotlib.pyplot as plt\n",
    "import numpy as np\n",
    "import cv2\n",
    "import os\n",
    "import time\n",
    "\n",
    "def lid_pre_process(xyz):\n",
    "    o =  0 \n",
    "    if np.size(xyz,1) != 3:\n",
    "        xyz = np.transpose(xyz)\n",
    "        \n",
    "    if np.size(xyz,1) != 3:\n",
    "        xyz = np.transpose(np.array([xyz[:,0],xyz[:,1],xyz[:,2]]))\n",
    "\n",
    "    #lidar_pc = np.transpose(lidar_pc[0:3,:])\n",
    "    \n",
    "    #lidar_pc[:,o] = -lidar_pc[:,o] \n",
    "    #lidar_pc = np.transpose(np.array([lidar_pc[:,1],lidar_pc[:,0],lidar_pc[:,2]]))\n",
    "    return xyz\n",
    "\n",
    "# Project lidar points into camera coordinates\n",
    "def lidar2cam(lidar_pc,rvec,tvec,intrinsics):\n",
    "    \n",
    "    dist_coeffs = np.zeros((4,1)) # Assuming no lens distortion\n",
    "\n",
    "    lidar_px, _ = cv2.projectPoints(lidar_pc, rvec, tvec, intrinsics, dist_coeffs)\n",
    "    lidar_px = np.squeeze(lidar_px)\n",
    "    return lidar_px \n",
    "\n",
    "path = '/home/nick/catkin_ws/smartbases/bobby_dat'\n",
    "\n",
    "# get the information \n",
    "images = [ cv2.imread(path + \"/Images/\" + filename) for filename in os.listdir(path + \"/Images/\")]\n",
    "\n",
    "leftlid = [ lid_pre_process(np.loadtxt(path + \"/LftLidar/\" + filename, delimiter=',')) for filename in os.listdir(path + \"/LftLidar/\") if \".txt\" in filename]\n",
    "rightlid = [ lid_pre_process(np.loadtxt(path + \"/RgtLidar/\" + filename, delimiter=',')) for filename in os.listdir(path + \"/RgtLidar/\") if \".txt\" in filename]\n"
   ]
  },
  {
   "cell_type": "code",
   "execution_count": 7,
   "metadata": {},
   "outputs": [
    {
     "output_type": "display_data",
     "data": {
      "text/plain": "Canvas(toolbar=Toolbar(toolitems=[('Home', 'Reset original view', 'home', 'home'), ('Back', 'Back to previous …",
      "application/vnd.jupyter.widget-view+json": {
       "version_major": 2,
       "version_minor": 0,
       "model_id": "77498d27501f47b7b6b5a91edfbdd583"
      }
     },
     "metadata": {}
    },
    {
     "output_type": "display_data",
     "data": {
      "text/plain": "VBox(children=(HBox(children=(IntSlider(value=0, description='t_x', max=49, readout=False), Label(value='-1.00…",
      "application/vnd.jupyter.widget-view+json": {
       "version_major": 2,
       "version_minor": 0,
       "model_id": "ca9e6ada153d4b61a5120bddbda68b15"
      }
     },
     "metadata": {}
    },
    {
     "output_type": "stream",
     "name": "stdout",
     "text": [
      "(12291,) (12291,)\n(12291, 2)\n(12291,) (12291,)\n(12291, 2)\n"
     ]
    }
   ],
   "source": [
    "\n",
    "\n",
    "focal_length = [606.1387,603.1641]\n",
    "    \n",
    "center = [959.0102,599.6154]\n",
    "\n",
    "intrinsics = np.array([[focal_length[0], 0, center[0]],\n",
    "                       [0, focal_length[1], center[1]],\n",
    "                       [0, 0, 1]], dtype = \"double\"\n",
    "                       ) \n",
    "\n",
    "X = np.linspace(0, 100)\n",
    "Y = np.linspace(0, 100)\n",
    "Z = np.linspace(0, 100)\n",
    "Roll = np.linspace(0, 100)\n",
    "Pitch = np.linspace(0, 100)\n",
    "Yaw = np.linspace(0, 100)\n",
    "\n",
    "\n",
    "tvec = np.array((3, 1))\n",
    "rvec = np.array((3, 1))\n",
    "\n",
    "index = 0\n",
    "\n",
    "img = images[index]\n",
    "pc = leftlid[index]\n",
    "\n",
    "lidar_points = []\n",
    "\n",
    "def punchin(img, lidar):\n",
    "    height = img.shape[0]\n",
    "    width = img.shape[1]\n",
    "    trimmed = []\n",
    "    for point in lidar:\n",
    "        if point[0] < height and point[1] < width and point[0] > 0 and point[1] > 0:\n",
    "            trimmed.append(point)\n",
    "    return np.array(trimmed)\n",
    "\n",
    "\n",
    "def call(save, t_x=0.45911911, t_y=-0.43532131, t_z=3.22640716, r=-0.87376982, p=-1.02724177, ya=1.32610297):\n",
    "    # print(pc.shape)\n",
    "    tvec = np.array([[float(t_x)], [float(t_y)], [float(t_z)]])\n",
    "    rvec = np.array([[float(r)], [float(p)], [float(ya)]])\n",
    "    lidar_pic = lidar2cam(pc, rvec, tvec, intrinsics)\n",
    "    print(lidar_pic[:,1].squeeze().shape, lidar_pic[:,0].squeeze().shape)\n",
    "    # lid_small = np.delete(lidar_pic, 2, 1)\n",
    "    print(lidar_pic.shape)\n",
    "    # return lidar_pic\n",
    "    # lidar_points = lidar_pic\n",
    "    # print(lidar_points.shape)\n",
    "    # return [lidar_pic[:,1], lidar_pic[:,0]]\n",
    "    # return lidar_pic[:,1]\n",
    "    return punchin(img, lidar_pic)[:,1]\n",
    "\n",
    "def call_y(x, save, t_x=0.45911911, t_y=-0.43532131, t_z=3.22640716, r=-0.87376982, p=-1.02724177, ya=1.32610297):\n",
    "    # print(pc.shape)\n",
    "    tvec = np.array([[float(t_x)], [float(t_y)], [float(t_z)]])\n",
    "    rvec = np.array([[float(r)], [float(p)], [float(ya)]])\n",
    "    lidar_pic = lidar2cam(pc, rvec, tvec, intrinsics)\n",
    "    print(lidar_pic[:,1].squeeze().shape, lidar_pic[:,0].squeeze().shape)\n",
    "    # lid_small = np.delete(lidar_pic, 2, 1)\n",
    "    print(lidar_pic.shape)\n",
    "    # return lidar_pic\n",
    "    # lidar_points = lidar_pic\n",
    "    # print(lidar_points.shape)\n",
    "    # return lidar_pic[:,0]\n",
    "    if save > 1:\n",
    "        with open(\"save.txt\", 'w') as file:\n",
    "            file.write(\"tx, ty, tz, r, p, y \\n{},{},{},{},{},{}\".format(t_x, t_y, t_z, r, p, ya))\n",
    "    return punchin(img, lidar_pic)[:,0]\n",
    "\n",
    "\n",
    "\n",
    "# lidar_pic = lidar2cam(pc, rvec, tvec, intrinsics)\n",
    "fig, ax = plt.subplots()\n",
    "ax.imshow(img)\n",
    "# plt.scatter(lidar_picure[:,1], lidar_picure[:,0],s=1)\n",
    "# plt.scatter(call(0, 0, 0, 0, 0, 0))\n",
    "\n",
    "controls = iplt.scatter(call, call_y, t_x=(-1, 1), t_y=(-1, 1), t_z=(0, 4), r=(-2, 2), p=(-2, 2), ya=(-2, 2), save=(0, 2), s=1)\n",
    "# iplt.scatter(x, f2, controls=controls, label=\"f2\")\n",
    "\n",
    "# plt.show()\n"
   ]
  },
  {
   "cell_type": "code",
   "execution_count": null,
   "metadata": {},
   "outputs": [],
   "source": []
  }
 ]
}